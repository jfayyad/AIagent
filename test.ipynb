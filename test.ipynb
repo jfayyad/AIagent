{
 "cells": [
  {
   "cell_type": "code",
   "execution_count": 7,
   "id": "0d1b95cc",
   "metadata": {},
   "outputs": [],
   "source": [
    "import json\n",
    "def load_knowledge_base(filepath=\"/home/jamil/Projects/AIagent/company.json\"):\n",
    "    with open(filepath, \"r\") as f:\n",
    "        kb = json.load(f)"
   ]
  },
  {
   "cell_type": "code",
   "execution_count": 8,
   "id": "6cfa6934",
   "metadata": {},
   "outputs": [],
   "source": [
    "kb_prompt = load_knowledge_base()"
   ]
  }
 ],
 "metadata": {
  "kernelspec": {
   "display_name": "agents",
   "language": "python",
   "name": "python3"
  },
  "language_info": {
   "codemirror_mode": {
    "name": "ipython",
    "version": 3
   },
   "file_extension": ".py",
   "mimetype": "text/x-python",
   "name": "python",
   "nbconvert_exporter": "python",
   "pygments_lexer": "ipython3",
   "version": "3.12.3"
  }
 },
 "nbformat": 4,
 "nbformat_minor": 5
}
